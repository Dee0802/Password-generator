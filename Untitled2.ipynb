{
  "nbformat": 4,
  "nbformat_minor": 0,
  "metadata": {
    "colab": {
      "name": "Untitled2.ipynb",
      "provenance": [],
      "authorship_tag": "ABX9TyOJJrI5rVa+0UgPzHn+4JS1",
      "include_colab_link": true
    },
    "kernelspec": {
      "name": "python3",
      "display_name": "Python 3"
    },
    "language_info": {
      "name": "python"
    }
  },
  "cells": [
    {
      "cell_type": "markdown",
      "metadata": {
        "id": "view-in-github",
        "colab_type": "text"
      },
      "source": [
        "<a href=\"https://colab.research.google.com/github/Dee0802/Password-generator/blob/main/Untitled2.ipynb\" target=\"_parent\"><img src=\"https://colab.research.google.com/assets/colab-badge.svg\" alt=\"Open In Colab\"/></a>"
      ]
    },
    {
      "cell_type": "code",
      "metadata": {
        "id": "OxObTxntPO2V",
        "colab": {
          "base_uri": "https://localhost:8080/"
        },
        "outputId": "1e27a8f0-a690-4d4f-87fd-213d75920f8d"
      },
      "source": [
        "import random\n",
        "def passw():\n",
        "     var=\"abcdefghijklmnopqrstuvwxyz1234567890ABCDEFGHIJKLMNOPQRSTUVWXYZ!@#$%^&*()\"\n",
        "     length = 10\n",
        "     p = \"\".join(random.sample(var,length))\n",
        "     return p\n",
        "i=\"no\"\n",
        "while i==\"no\":\n",
        " create = passw()\n",
        " print(create)\n",
        " print(\"Use this password?\")\n",
        " dec=input(\"yes/no\\n\")\n",
        " if dec=='yes':\n",
        "   print(\"Password set succesfully\")\n",
        "   break  \n",
        "\n"
      ],
      "execution_count": 16,
      "outputs": [
        {
          "output_type": "stream",
          "text": [
            "C21ixn(&Do\n",
            "Use this password?\n",
            "yes/no\n",
            "no\n",
            "$I6oijN4zt\n",
            "Use this password?\n",
            "yes/no\n",
            "yes\n",
            "Password set succesfully\n"
          ],
          "name": "stdout"
        }
      ]
    },
    {
      "cell_type": "code",
      "metadata": {
        "id": "-716idP5PIEE"
      },
      "source": [
        ""
      ],
      "execution_count": null,
      "outputs": []
    },
    {
      "cell_type": "markdown",
      "metadata": {
        "id": "MHz1dGeqPJhj"
      },
      "source": [
        ""
      ]
    }
  ]
}